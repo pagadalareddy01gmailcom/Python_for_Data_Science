{
  "nbformat": 4,
  "nbformat_minor": 0,
  "metadata": {
    "colab": {
      "provenance": [],
      "authorship_tag": "ABX9TyMnZhnhH3Xg6gixvD0dEprt",
      "include_colab_link": true
    },
    "kernelspec": {
      "name": "python3",
      "display_name": "Python 3"
    },
    "language_info": {
      "name": "python"
    }
  },
  "cells": [
    {
      "cell_type": "markdown",
      "metadata": {
        "id": "view-in-github",
        "colab_type": "text"
      },
      "source": [
        "<a href=\"https://colab.research.google.com/github/pagadalareddy01gmailcom/Python_for_Data_Science/blob/pagadalareddy01gmailcom-patch-1/exampy.ipynb\" target=\"_parent\"><img src=\"https://colab.research.google.com/assets/colab-badge.svg\" alt=\"Open In Colab\"/></a>"
      ]
    },
    {
      "cell_type": "code",
      "metadata": {
        "colab": {
          "base_uri": "https://localhost:8080/"
        },
        "id": "e1e11589",
        "outputId": "f7f3ad24-75ec-418d-92b7-6b6e154846e6"
      },
      "source": [
        "# Import required libraries\n",
        "import wbdata  # To fetch World Bank data\n",
        "import pandas as pd  # For data manipulation\n",
        "import datetime  # To handle date ranges\n",
        "\n",
        "# Set the country code for Oman (ISO 3166-1 alpha-3 code)\n",
        "country = \"OMN\"\n",
        "\n",
        "# Set the time range for 2010 to 2020\n",
        "start_date = datetime.datetime(2010, 1, 1)\n",
        "end_date = datetime.datetime(2020, 12, 31)\n",
        "\n",
        "# Indicator for total population (World Bank indicator)\n",
        "indicator = {\"SP.POP.TOTL\": \"Population\"}\n",
        "\n",
        "# Fetch data from World Bank using wbdata\n",
        "df = wbdata.get_dataframe(indicator, country=country, date=(start_date, end_date))\n",
        "\n",
        "# Reset the index to access year as a column\n",
        "df = df.reset_index()\n",
        "\n",
        "# Rename columns for clarity\n",
        "df.columns = [\"Year\", \"Population\"]\n",
        "\n",
        "# Sort the data by year in ascending order\n",
        "df = df.sort_values(by=\"Year\")\n",
        "\n",
        "# Print the population data for Oman from 2010 to 2020\n",
        "print(df)"
      ],
      "execution_count": 9,
      "outputs": [
        {
          "output_type": "stream",
          "name": "stdout",
          "text": [
            "    Year  Population\n",
            "10  2010   2757446.0\n",
            "9   2011   3076763.0\n",
            "8   2012   3547106.0\n",
            "7   2013   3833913.0\n",
            "6   2014   4002439.0\n",
            "5   2015   4184895.0\n",
            "4   2016   4390877.0\n",
            "3   2017   4537396.0\n",
            "2   2018   4597877.0\n",
            "1   2019   4591241.0\n",
            "0   2020   4522497.0\n"
          ]
        }
      ]
    }
  ]
}