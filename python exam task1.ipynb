{
  "nbformat": 4,
  "nbformat_minor": 0,
  "metadata": {
    "colab": {
      "provenance": [],
      "authorship_tag": "ABX9TyMh8JJfj8ChXqWixWpD/5KY",
      "include_colab_link": true
    },
    "kernelspec": {
      "name": "python3",
      "display_name": "Python 3"
    },
    "language_info": {
      "name": "python"
    }
  },
  "cells": [
    {
      "cell_type": "markdown",
      "metadata": {
        "id": "view-in-github",
        "colab_type": "text"
      },
      "source": [
        "<a href=\"https://colab.research.google.com/github/pagadalareddy01gmailcom/Python_for_Data_Science/blob/main/python%20exam%20task1.ipynb\" target=\"_parent\"><img src=\"https://colab.research.google.com/assets/colab-badge.svg\" alt=\"Open In Colab\"/></a>"
      ]
    },
    {
      "cell_type": "code",
      "source": [
        "## question 1 Write a program using a for loop to print the square of numbers from 1 to 100\n",
        "for i in range(1,101):\n",
        "  print(f\"the square of {i} is {i**2}\")"
      ],
      "metadata": {
        "colab": {
          "base_uri": "https://localhost:8080/"
        },
        "id": "thIIkni8UaWy",
        "outputId": "ae567116-6c0c-40ea-800c-4e11d353fe57"
      },
      "execution_count": null,
      "outputs": [
        {
          "output_type": "stream",
          "name": "stdout",
          "text": [
            "the square of 1 is 1\n",
            "the square of 2 is 4\n",
            "the square of 3 is 9\n",
            "the square of 4 is 16\n",
            "the square of 5 is 25\n",
            "the square of 6 is 36\n",
            "the square of 7 is 49\n",
            "the square of 8 is 64\n",
            "the square of 9 is 81\n",
            "the square of 10 is 100\n",
            "the square of 11 is 121\n",
            "the square of 12 is 144\n",
            "the square of 13 is 169\n",
            "the square of 14 is 196\n",
            "the square of 15 is 225\n",
            "the square of 16 is 256\n",
            "the square of 17 is 289\n",
            "the square of 18 is 324\n",
            "the square of 19 is 361\n",
            "the square of 20 is 400\n",
            "the square of 21 is 441\n",
            "the square of 22 is 484\n",
            "the square of 23 is 529\n",
            "the square of 24 is 576\n",
            "the square of 25 is 625\n",
            "the square of 26 is 676\n",
            "the square of 27 is 729\n",
            "the square of 28 is 784\n",
            "the square of 29 is 841\n",
            "the square of 30 is 900\n",
            "the square of 31 is 961\n",
            "the square of 32 is 1024\n",
            "the square of 33 is 1089\n",
            "the square of 34 is 1156\n",
            "the square of 35 is 1225\n",
            "the square of 36 is 1296\n",
            "the square of 37 is 1369\n",
            "the square of 38 is 1444\n",
            "the square of 39 is 1521\n",
            "the square of 40 is 1600\n",
            "the square of 41 is 1681\n",
            "the square of 42 is 1764\n",
            "the square of 43 is 1849\n",
            "the square of 44 is 1936\n",
            "the square of 45 is 2025\n",
            "the square of 46 is 2116\n",
            "the square of 47 is 2209\n",
            "the square of 48 is 2304\n",
            "the square of 49 is 2401\n",
            "the square of 50 is 2500\n",
            "the square of 51 is 2601\n",
            "the square of 52 is 2704\n",
            "the square of 53 is 2809\n",
            "the square of 54 is 2916\n",
            "the square of 55 is 3025\n",
            "the square of 56 is 3136\n",
            "the square of 57 is 3249\n",
            "the square of 58 is 3364\n",
            "the square of 59 is 3481\n",
            "the square of 60 is 3600\n",
            "the square of 61 is 3721\n",
            "the square of 62 is 3844\n",
            "the square of 63 is 3969\n",
            "the square of 64 is 4096\n",
            "the square of 65 is 4225\n",
            "the square of 66 is 4356\n",
            "the square of 67 is 4489\n",
            "the square of 68 is 4624\n",
            "the square of 69 is 4761\n",
            "the square of 70 is 4900\n",
            "the square of 71 is 5041\n",
            "the square of 72 is 5184\n",
            "the square of 73 is 5329\n",
            "the square of 74 is 5476\n",
            "the square of 75 is 5625\n",
            "the square of 76 is 5776\n",
            "the square of 77 is 5929\n",
            "the square of 78 is 6084\n",
            "the square of 79 is 6241\n",
            "the square of 80 is 6400\n",
            "the square of 81 is 6561\n",
            "the square of 82 is 6724\n",
            "the square of 83 is 6889\n",
            "the square of 84 is 7056\n",
            "the square of 85 is 7225\n",
            "the square of 86 is 7396\n",
            "the square of 87 is 7569\n",
            "the square of 88 is 7744\n",
            "the square of 89 is 7921\n",
            "the square of 90 is 8100\n",
            "the square of 91 is 8281\n",
            "the square of 92 is 8464\n",
            "the square of 93 is 8649\n",
            "the square of 94 is 8836\n",
            "the square of 95 is 9025\n",
            "the square of 96 is 9216\n",
            "the square of 97 is 9409\n",
            "the square of 98 is 9604\n",
            "the square of 99 is 9801\n",
            "the square of 100 is 10000\n"
          ]
        }
      ]
    },
    {
      "cell_type": "code",
      "source": [
        "#question 2 Define a function to take grades (grades) that: Takes a list of numbers(grades).\n",
        "\n",
        "\n",
        "def check_grades(grades):\n",
        "    results = []\n",
        "    for grade in grades:\n",
        "        if grade >= 75:\n",
        "            results.append(\"Yes\")\n",
        "        else:\n",
        "            results.append(\"No\")\n",
        "    return results\n",
        "\n",
        "\n",
        "test_grades = [85, 70, 92, 65, 78, 50, 100]\n",
        "print(f\"Grade results for {test_grades}: {check_grades(test_grades)}\")\n"
      ],
      "metadata": {
        "id": "tdhS2Z9_aQl7",
        "colab": {
          "base_uri": "https://localhost:8080/"
        },
        "outputId": "c5d7c2b5-a08d-4c0f-849c-4ea0a1de4804"
      },
      "execution_count": 65,
      "outputs": [
        {
          "output_type": "stream",
          "name": "stdout",
          "text": [
            "Grade results for [85, 70, 92, 65, 78, 50, 100]: ['Yes', 'No', 'Yes', 'No', 'Yes', 'No', 'Yes']\n"
          ]
        }
      ]
    },
    {
      "cell_type": "code",
      "source": [
        "#question 3 (a, e, i, o, u)\n",
        "def count_vowels(text):\n",
        "    vowels = \"aeiouAEIOU\"\n",
        "    vowel_count = 0\n",
        "    vowel_frequency = {'a': 0, 'e': 0, 'i': 0, 'o': 0, 'u': 0}\n",
        "\n",
        "    for char in text:\n",
        "        if char in vowels:\n",
        "            vowel_count += 1\n",
        "\n",
        "            if char.lower() in vowel_frequency:\n",
        "                vowel_frequency[char.lower()] += 1\n",
        "\n",
        "    print(f\"Total number of vowels: {vowel_count}\")\n",
        "    print(\"Vowel frequency:\")\n",
        "    for vowel, count in vowel_frequency.items():\n",
        "        print(f\"  {vowel}: {count} times\")\n",
        "\n",
        "\n",
        "my_string = \"The signal is the truth. The noise is what distracts us from the truth.\"\n",
        "count_vowels(my_string)"
      ],
      "metadata": {
        "colab": {
          "base_uri": "https://localhost:8080/"
        },
        "id": "5gXSWQSsb1ls",
        "outputId": "8916ee31-d016-4fb9-9201-6a60ec2b39f0"
      },
      "execution_count": 66,
      "outputs": [
        {
          "output_type": "stream",
          "name": "stdout",
          "text": [
            "Total number of vowels: 18\n",
            "Vowel frequency:\n",
            "  a: 3 times\n",
            "  e: 5 times\n",
            "  i: 5 times\n",
            "  o: 2 times\n",
            "  u: 3 times\n"
          ]
        }
      ]
    },
    {
      "cell_type": "code",
      "source": [
        "# question 4\n",
        "\n",
        "\n",
        "def data_collection_tool():\n",
        "    numbers = []\n",
        "    while True:\n",
        "        user_input = input(\"Enter a number (or 'done' to finish): \")\n",
        "        if user_input.lower() == 'done':\n",
        "            break\n",
        "        elif not user_input.strip():\n",
        "            print(\"Invalid input. Try again.\")\n",
        "            continue\n",
        "        try:\n",
        "            num = float(user_input)\n",
        "            numbers.append(num)\n",
        "        except ValueError:\n",
        "            print(\"Invalid input. Try again.\")\n",
        "\n",
        "    if not numbers:\n",
        "        print(\"No numbers were entered.\")\n",
        "    else:\n",
        "        total_values = len(numbers)\n",
        "        sum_values = sum(numbers)\n",
        "        average_values = sum_values / total_values\n",
        "\n",
        "        print(f\"\\nTotal number of values entered: {total_values}\")\n",
        "        print(f\"Sum of the numbers: {sum_values}\")\n",
        "        print(f\"Average of the numbers: {average_values:.2f}\")\n",
        "        # Rounded to 2 decimal places\n",
        "\n",
        "data_collection_tool()"
      ],
      "metadata": {
        "colab": {
          "base_uri": "https://localhost:8080/"
        },
        "id": "PJCJTV3LcPmJ",
        "outputId": "3de3ce79-211a-48af-fd49-80be0dd5aa32"
      },
      "execution_count": 68,
      "outputs": [
        {
          "output_type": "stream",
          "name": "stdout",
          "text": [
            "Enter a number (or 'done' to finish): 2345\n",
            "Enter a number (or 'done' to finish): 2.456\n",
            "Enter a number (or 'done' to finish): abc\n",
            "Invalid input. Try again.\n",
            "Enter a number (or 'done' to finish): hello\n",
            "Invalid input. Try again.\n",
            "Enter a number (or 'done' to finish): done\n",
            "\n",
            "Total number of values entered: 2\n",
            "Sum of the numbers: 2347.456\n",
            "Average of the numbers: 1173.73\n"
          ]
        }
      ]
    },
    {
      "cell_type": "code",
      "source": [
        "# question 5\n",
        "\n",
        "purchase_data = [(\"Alice\", 120), (\"Bob\", 80), (\"Alice\", 50), (\"Bob\", 20), (\"Clara\", 200)]\n",
        "\n",
        "customer_total_purchases = {}\n",
        "\n",
        "for customer, amount in purchase_data:\n",
        "    customer_total_purchases[customer] = customer_total_purchases.get(customer, 0) + amount\n",
        "\n",
        "print(\"\\nCustomer Spending:\")\n",
        "for customer, total_spent in customer_total_purchases.items():\n",
        "    print(f\"{customer} spent ${total_spent}\")"
      ],
      "metadata": {
        "colab": {
          "base_uri": "https://localhost:8080/"
        },
        "id": "cy7I2FWDdjAH",
        "outputId": "75e52a3e-d6ba-446b-ed79-a45e62e958e9"
      },
      "execution_count": 69,
      "outputs": [
        {
          "output_type": "stream",
          "name": "stdout",
          "text": [
            "\n",
            "Customer Spending:\n",
            "Alice spent $170\n",
            "Bob spent $100\n",
            "Clara spent $200\n"
          ]
        }
      ]
    },
    {
      "cell_type": "code",
      "source": [
        "# Task 6: Use the wbdata package to get Population data for the country: Oman from 2010 to 2020.\n",
        "# Print the results in a readable way (country, year, population).\n",
        "\n",
        "import wbdata\n",
        "import datetime\n",
        "\n",
        "# the indicator for Population (Total Population)\n",
        "# the  indicators on the World Bank Data website or by using wbdata.search_indicators(\"population\")\n",
        "population_indicator = \"SP.POP.TOTL\"\n",
        "\n",
        "# the country (Oman)\n",
        "country_code = \"OMN\"\n",
        "\n",
        "# the date range\n",
        "start_year = 2010\n",
        "end_year = 2020\n",
        "date_range = (datetime.datetime(start_year, 1, 1), datetime.datetime(end_year, 12, 31))\n",
        "\n",
        "print(f\"\\nPopulation data for {country_code} from {start_year} to {end_year}:\")\n",
        "try:\n",
        "    data = wbdata.get_data(population_indicator, country=country_code, date=date_range)\n",
        "\n",
        "    #  the data by year for better readability\n",
        "    data_sorted = sorted(data, key=lambda x: x['date'])\n",
        "\n",
        "    print(f\"Country: {wbdata.get_country(country_code)['name']}\")\n",
        "    print(f\"{'Year':<8} {'Population':<15}\")\n",
        "    print(\"-\" * 23)\n",
        "    for entry in data_sorted:\n",
        "        year = entry['date']\n",
        "        population = entry['value']\n",
        "        if population is not None: # Ensure population data exists\n",
        "            print(f\"{year:<8} {int(population):,<15}\")\n",
        "        else:\n",
        "            print(f\"{year:<8} {'No Data':<15}\")\n",
        "\n",
        "except Exception as e:\n",
        "    print(f\"An error occurred while fetching data: {e}\")\n",
        "    print(\"Please ensure you have an active internet connection and 'wbdata' is installed correctly.\")\n",
        "    print(\"You might also want to verify the country code and indicator.\")"
      ],
      "metadata": {
        "colab": {
          "base_uri": "https://localhost:8080/"
        },
        "id": "asOtwlCwgiVz",
        "outputId": "de5ec0be-8eab-4f15-8bdf-445d68018de0"
      },
      "execution_count": 86,
      "outputs": [
        {
          "output_type": "stream",
          "name": "stdout",
          "text": [
            "\n",
            "Population data for OMN from 2010 to 2020:\n",
            "An error occurred while fetching data: module 'wbdata' has no attribute 'get_country'\n",
            "Please ensure you have an active internet connection and 'wbdata' is installed correctly.\n",
            "You might also want to verify the country code and indicator.\n"
          ]
        }
      ]
    }
  ]
}